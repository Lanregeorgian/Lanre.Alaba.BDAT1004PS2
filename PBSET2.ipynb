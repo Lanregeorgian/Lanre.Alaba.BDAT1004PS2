{
 "cells": [
  {
   "cell_type": "markdown",
   "id": "a0b9825c-43ac-4936-9c74-691e9381492c",
   "metadata": {},
   "source": [
    "# Question 1"
   ]
  },
  {
   "cell_type": "code",
   "execution_count": 5,
   "id": "7a4e4c6f-573f-4471-b5b4-38ff899dbdf4",
   "metadata": {},
   "outputs": [],
   "source": [
    "a = 0\n",
    "def b():\n",
    "    global a\n",
    "    a = c(a)\n",
    "def c(a):\n",
    "    return a + 2"
   ]
  },
  {
   "cell_type": "code",
   "execution_count": 7,
   "id": "293bf0bf-214c-4e47-bfab-0cd955f1f10e",
   "metadata": {},
   "outputs": [
    {
     "name": "stdout",
     "output_type": "stream",
     "text": [
      "6\n"
     ]
    }
   ],
   "source": [
    "b()\n",
    "b()\n",
    "b()\n",
    "print(a)"
   ]
  },
  {
   "cell_type": "markdown",
   "id": "817642cd-7c38-42a1-b751-e93caaf22893",
   "metadata": {},
   "source": [
    "# Question 2"
   ]
  },
  {
   "cell_type": "code",
   "execution_count": 10,
   "id": "0dee9f50-f95b-43e4-af5e-57e03f01717b",
   "metadata": {},
   "outputs": [],
   "source": [
    "import os\n",
    "\n",
    "def fileLength(filePath):\n",
    "    try:\n",
    "        return os.path.getsize(filePath)\n",
    "    except FileNotFoundError as e:\n",
    "        print(f\"File {filePath} not found.\")\n",
    "        return"
   ]
  },
  {
   "cell_type": "code",
   "execution_count": 12,
   "id": "6b52e819-50b7-4b16-bbbd-6093f5c72787",
   "metadata": {},
   "outputs": [
    {
     "name": "stdout",
     "output_type": "stream",
     "text": [
      "File worss.txt not found.\n",
      "None\n"
     ]
    }
   ],
   "source": [
    "print(fileLength(\"worss.txt\"))"
   ]
  },
  {
   "cell_type": "markdown",
   "id": "39f533f1-61a7-4cef-a570-226accae1445",
   "metadata": {},
   "source": [
    "# Question 3"
   ]
  },
  {
   "cell_type": "code",
   "execution_count": 15,
   "id": "8d29358a-d490-45bb-b887-96a73398a5e7",
   "metadata": {},
   "outputs": [],
   "source": [
    "class Marsupial:\n",
    "    def __init__(self):\n",
    "        self.pouch = []\n",
    "        \n",
    "    def put_in_pouch(self, content):\n",
    "        self.pouch.append(content)\n",
    "        \n",
    "    def pouch_contents(self):\n",
    "        return self.pouch"
   ]
  },
  {
   "cell_type": "code",
   "execution_count": 17,
   "id": "c1147cf9-5e69-458a-9e3d-365153c45860",
   "metadata": {},
   "outputs": [
    {
     "data": {
      "text/plain": [
       "['doll', 'firetruck', 'kitten']"
      ]
     },
     "execution_count": 17,
     "metadata": {},
     "output_type": "execute_result"
    }
   ],
   "source": [
    "m = Marsupial()\n",
    "m.put_in_pouch(\"doll\")\n",
    "m.put_in_pouch(\"firetruck\")\n",
    "m.put_in_pouch(\"kitten\")\n",
    "m.pouch_contents()"
   ]
  },
  {
   "cell_type": "code",
   "execution_count": 21,
   "id": "8c4046e4-acc0-484d-8eb6-435393be7178",
   "metadata": {},
   "outputs": [],
   "source": [
    "class Kangaroo(Marsupial):\n",
    "    def __init__(self, x=0, y=0):\n",
    "        super().__init__()\n",
    "        self.x = x\n",
    "        self.y = y\n",
    "    def jump(self, dx, dy):\n",
    "        self.x += dx\n",
    "        self.y += dy\n",
    "    \n",
    "    def __str__(self):\n",
    "        return f\"I am a Kangaroo located at coordinates ({self.x}, {self.y})\""
   ]
  },
  {
   "cell_type": "code",
   "execution_count": 23,
   "id": "f48243f2-9167-4664-a432-efdf470aa42d",
   "metadata": {},
   "outputs": [
    {
     "name": "stdout",
     "output_type": "stream",
     "text": [
      "I am a Kangaroo located at coordinates (0, 0)\n"
     ]
    }
   ],
   "source": [
    "k = Kangaroo(0,0)\n",
    "print(k)"
   ]
  },
  {
   "cell_type": "code",
   "execution_count": 25,
   "id": "1a6b5c7f-77c8-4992-a708-aec9bdab1488",
   "metadata": {},
   "outputs": [
    {
     "data": {
      "text/plain": [
       "['doll', 'firetruck', 'kitten']"
      ]
     },
     "execution_count": 25,
     "metadata": {},
     "output_type": "execute_result"
    }
   ],
   "source": [
    "k.put_in_pouch('doll')\n",
    "k.put_in_pouch('firetruck')\n",
    "k.put_in_pouch('kitten')\n",
    "k.pouch_contents()\n"
   ]
  },
  {
   "cell_type": "code",
   "execution_count": 27,
   "id": "b9d3bcbd-fe5b-45e3-88ba-a0d3729e8647",
   "metadata": {},
   "outputs": [
    {
     "name": "stdout",
     "output_type": "stream",
     "text": [
      "I am a Kangaroo located at coordinates (3, 0)\n"
     ]
    }
   ],
   "source": [
    "k.jump(1,0)\n",
    "k.jump(1,0)\n",
    "k.jump(1,0)\n",
    "print(k)"
   ]
  },
  {
   "cell_type": "markdown",
   "id": "3bb1128a-61c1-413e-b6c2-885df6a448e6",
   "metadata": {},
   "source": [
    "# Question 4"
   ]
  },
  {
   "cell_type": "code",
   "execution_count": 34,
   "id": "25cfd525-7c12-49ad-8fb2-ab1db8fc0d5d",
   "metadata": {},
   "outputs": [],
   "source": [
    "def collatz(x):\n",
    "    print(x)\n",
    "    if x == 1:\n",
    "        return\n",
    "    if x % 2 == 0:\n",
    "        x = x // 2\n",
    "    else:\n",
    "        x = 3 * x + 1\n",
    "    \n",
    "    return collatz(x)"
   ]
  },
  {
   "cell_type": "code",
   "execution_count": 36,
   "id": "e813aeb3-83f6-48b3-b2b7-02598ec642a9",
   "metadata": {},
   "outputs": [
    {
     "name": "stdout",
     "output_type": "stream",
     "text": [
      "10\n",
      "5\n",
      "16\n",
      "8\n",
      "4\n",
      "2\n",
      "1\n"
     ]
    }
   ],
   "source": [
    "collatz(10)"
   ]
  },
  {
   "cell_type": "markdown",
   "id": "225ddf33-78ca-42f8-a004-6b649849d4df",
   "metadata": {},
   "source": [
    "# Question 5"
   ]
  },
  {
   "cell_type": "code",
   "execution_count": 39,
   "id": "e0095898-07e0-46fd-87e3-ed915aeec6ff",
   "metadata": {},
   "outputs": [],
   "source": [
    "def binary(n):\n",
    "    if n in (0, 1):\n",
    "        print(n, end='')\n",
    "    else:\n",
    "        binary(n // 2)\n",
    "        print(n % 2, end='')"
   ]
  },
  {
   "cell_type": "code",
   "execution_count": 41,
   "id": "26a49966-2950-43cb-87e5-5824b3d339cb",
   "metadata": {},
   "outputs": [
    {
     "name": "stdout",
     "output_type": "stream",
     "text": [
      "1001"
     ]
    }
   ],
   "source": [
    "binary(9)"
   ]
  },
  {
   "cell_type": "markdown",
   "id": "a61d92eb-3120-4d46-ae18-3456072dfff4",
   "metadata": {},
   "source": [
    "# Question 6"
   ]
  },
  {
   "cell_type": "code",
   "execution_count": 1,
   "id": "bbd6aa59-b80c-48da-94df-eab452c6dee2",
   "metadata": {},
   "outputs": [],
   "source": [
    "from html.parser import HTMLParser\n",
    "\n",
    "class HeadingParser(HTMLParser):\n",
    "    def __init__(self):\n",
    "        super().__init__()\n",
    "        self.current_tag = None\n",
    "\n",
    "    def handle_starttag(self, tag, attrs):\n",
    "        if tag in ['h1', 'h2', 'h3', 'h4', 'h5', 'h6']:\n",
    "            self.current_tag = tag\n",
    "\n",
    "    def handle_endtag(self, tag):\n",
    "        if tag == self.current_tag:\n",
    "            self.current_tag = None\n",
    "\n",
    "    def handle_data(self, data):\n",
    "        if self.current_tag:\n",
    "            header_level = int(self.current_tag[1])\n",
    "            print(' ' * (header_level - 1) + data)"
   ]
  },
  {
   "cell_type": "code",
   "execution_count": 21,
   "id": "97d5c0e9-b550-4fcd-b5d9-ca271a9e6b15",
   "metadata": {},
   "outputs": [
    {
     "name": "stdout",
     "output_type": "stream",
     "text": [
      "W3C Mission\n",
      " Principles\n"
     ]
    }
   ],
   "source": [
    "infile = open('w3c.html')\n",
    "content = infile.read()\n",
    "infile.close()\n",
    "hp = HeadingParser()\n",
    "hp.feed(content)"
   ]
  },
  {
   "cell_type": "markdown",
   "id": "f983d699-9eca-485b-82c4-65e0ccda290d",
   "metadata": {},
   "source": [
    "# Question 7\n"
   ]
  },
  {
   "cell_type": "code",
   "execution_count": 13,
   "id": "3550786e-e91f-4d85-93f1-2c24f144096a",
   "metadata": {},
   "outputs": [],
   "source": [
    "import requests\n",
    "from html.parser import HTMLParser\n",
    "\n",
    "class LinkParser(HTMLParser):\n",
    "    def __init__(self):\n",
    "        super().__init__()\n",
    "        self.links = []\n",
    "\n",
    "    def handle_starttag(self, tag, attrs):\n",
    "        if tag == 'a':\n",
    "            for attr in attrs:\n",
    "                if attr[0] == 'href':\n",
    "                    self.links.append(attr[1])\n",
    "\n",
    "def webdir(url, depth, indent):\n",
    "    if depth < 0:\n",
    "        return\n",
    "\n",
    "    print(' ' * indent + url)\n",
    "\n",
    "    try:\n",
    "        response = requests.get(url)\n",
    "        response.raise_for_status() \n",
    "    except requests.RequestException as e:\n",
    "        print(' ' * indent + f\"Error fetching {url}: {e}\")\n",
    "        return\n",
    "\n",
    "    parser = LinkParser()\n",
    "    parser.feed(response.text)\n",
    "\n",
    "    for link in parser.links:\n",
    "        if not link.startswith('http'):\n",
    "            link = requests.compat.urljoin(url, link)\n",
    "        webdir(link, depth - 1, indent + 2)"
   ]
  },
  {
   "cell_type": "code",
   "execution_count": 15,
   "id": "6e673d35-d023-4f26-b4d8-b76bb4ff63b9",
   "metadata": {},
   "outputs": [
    {
     "name": "stdout",
     "output_type": "stream",
     "text": [
      "https://reed.cs.depaul.edu/lperkovic/csc242/syllabus.html\n",
      "  https://reed.cs.depaul.edu/lperkovic/\n",
      "    http://www.cdm.depaul.edu/about/Pages/School-of-Computing.aspx\n",
      "    http://www.cdm.depaul.edu\n",
      "    https://reed.cs.depaul.edu/lperkovic/courses/csc241/\n",
      "    https://reed.cs.depaul.edu/lperkovic/courses/csc242/\n",
      "    https://reed.cs.depaul.edu/lperkovic/papers/papers.html\n",
      "  https://depaul.zoom.us/j/894936490\n",
      "  https://depaul.zoom.us/j/894936490\n",
      "  mailto:lperkovic@cs.depaul.edu\n",
      "  Error fetching mailto:lperkovic@cs.depaul.edu: No connection adapters were found for 'mailto:lperkovic@cs.depaul.edu'\n",
      "  https://d2l.depaul.edu/\n",
      "  https://d2l.depaul.edu/\n",
      "  https://www.vitalsource.com/custom/9781119185390\n",
      "    https://www.vitalsource.com/custom/9781119185390#content\n",
      "    https://www.vitalsource.com/\n",
      "    https://sampling.vitalsource.com/educators\n",
      "    https://get.vitalsource.com/\n",
      "    https://www.vitalsource.com/textbooks\n",
      "    https://www.vitalsource.com/bookshelf/home\n",
      "    https://www.vitalsource.com/redeem\n",
      "    https://www.vitalsource.com/products/wcs-case-studies-for-an-introduction-to-computing-ljubomir-perkovic-v9781119185390\n",
      "    https://www.vitalsource.com/custom/9781119185390#scroll-to-top\n",
      "    https://www.vitalsource.com/about-us\n",
      "    https://get.vitalsource.com/press\n",
      "    https://get.vitalsource.com/about-us/careers\n",
      "    https://get.vitalsource.com/resources/events\n",
      "    https://get.vitalsource.com/blog\n",
      "    https://www.vitalsource.com/testimonials\n",
      "    https://accessibility.vitalsource.com/hc/en-us/articles/22080464497559-Accessibility-Statement-for-the-VitalSource-Platform\n",
      "    Error fetching https://accessibility.vitalsource.com/hc/en-us/articles/22080464497559-Accessibility-Statement-for-the-VitalSource-Platform: 403 Client Error: Forbidden for url: https://accessibility.vitalsource.com/hc/en-us/articles/22080464497559-Accessibility-Statement-for-the-VitalSource-Platform\n",
      "    https://www.vitalsource.com/affiliates\n",
      "    https://bulk-store.vitalsource.com/\n",
      "    https://sampling.vitalsource.com/educators\n",
      "    https://www.vitalsource.com/digital-textbooks\n",
      "    https://www.vitalsource.com/buy-safe\n",
      "    https://www.vitalsource.com/refund-policy\n",
      "    https://www.vitalsource.com/faqs\n",
      "    https://support.vitalsource.com/hc/en-us\n",
      "    Error fetching https://support.vitalsource.com/hc/en-us: 403 Client Error: Forbidden for url: https://support.vitalsource.com/hc/en-us\n",
      "    https://support.vitalsource.com/hc/en-us/articles/360050635654-California-Notice-of-Information-Collection\n",
      "    Error fetching https://support.vitalsource.com/hc/en-us/articles/360050635654-California-Notice-of-Information-Collection: 403 Client Error: Forbidden for url: https://support.vitalsource.com/hc/en-us/articles/360050635654-California-Notice-of-Information-Collection\n",
      "    https://www.vitalsource.com/privacy\n",
      "    https://www.vitalsource.com/terms\n",
      "    https://support.vitalsource.com/hc/en-us/articles/360003928273-VitalSource-Technologies-LLC-Cookies-Notice\n",
      "    Error fetching https://support.vitalsource.com/hc/en-us/articles/360003928273-VitalSource-Technologies-LLC-Cookies-Notice: 403 Client Error: Forbidden for url: https://support.vitalsource.com/hc/en-us/articles/360003928273-VitalSource-Technologies-LLC-Cookies-Notice\n",
      "    https://www.vitalsource.com/custom/9781119185390\n",
      "    https://www.youtube.com/channel/UCnLjhbaT56U_mmmc4m0yBrA\n",
      "    https://www.instagram.com/vitalsource/\n",
      "    https://www.facebook.com/vitalsourcebookshelf/\n",
      "    https://twitter.com/vitalsource\n",
      "    https://www.linkedin.com/company/vitalsource-technologies/\n",
      "    https://get.vitalsource.com/\n",
      "  https://reed.cs.depaul.edu/lperkovic/courses/csc242\n",
      "  https://academics.depaul.edu/calendar/Pages/default.aspx\n",
      "    https://academics.depaul.edu/calendar/Pages/default.aspx\n",
      "    https://academics.depaul.edu/calendar/Pages/default.aspx\n",
      "    javascript:;\n",
      "    Error fetching javascript:;: No connection adapters were found for 'javascript:;'\n",
      "    javascript:;\n",
      "    Error fetching javascript:;: No connection adapters were found for 'javascript:;'\n",
      "    https://academics.depaul.edu/calendar/Pages/default.aspx\n",
      "    https://academics.depaul.edu/calendar/Pages/default.aspx\n",
      "    javascript:;\n",
      "    Error fetching javascript:;: No connection adapters were found for 'javascript:;'\n",
      "    https://academics.depaul.edu/calendar/Pages/default.aspx\n",
      "    https://catalog.depaul.edu/\n",
      "    https://resources.depaul.edu/student-success/Pages/default.aspx\n",
      "    https://bluemail.depaul.edu\n",
      "    https://campusconnect.depaul.edu/\n",
      "    https://d2l.depaul.edu/\n",
      "    https://library.depaul.edu/Pages/default.aspx\n",
      "    https://offices.depaul.edu/depaul-central/Pages/default.aspx\n",
      "    https://offices.depaul.edu/public-safety/Pages/default.aspx\n",
      "    https://depaul.bncollege.com/\n",
      "    https://www.depaul.edu/campus-maps/Pages/default.aspx\n",
      "    https://events.depaul.edu/\n",
      "    https://ekze.fa.us2.oraclecloud.com/hcmUI/faces/FndOverview?fnd=%3B%3B%3B%3Bfalse%3B256%3B%3B%3B&fndGlobalItemNodeId=PER_HCMPEOPLETOP_FUSE_DIRECTORY\n",
      "    http://www.depaulbluedemons.com/\n",
      "    https://www.depaul.edu/Pages/employment-at-depaul.aspx\n",
      "    https://www.depaul.edu/utilities/Pages/a-z-websites.aspx\n",
      "    https://depaul.service-now.com/sp\n",
      "    https://alumni.depaul.edu/\n",
      "    Error fetching https://alumni.depaul.edu/: 403 Client Error: Forbidden for url: https://www.alumni.depaul.edu/\n",
      "    https://www.depaul.edu/Pages/students.aspx\n",
      "    https://www.depaul.edu/Pages/faculty.aspx\n",
      "    http://www.depaul.edu/\n",
      "    https://www.depaul.edu/Pages/default.aspx\n",
      "    https://academics.depaul.edu/calendar/Pages/default.aspx\n",
      "    https://academics.depaul.edu/calendar/Pages/default.aspx\n",
      "    https://academics.depaul.edu/calendar/Pages/default.aspx#depaulShortcuts\n",
      "    javascript:SiteSearch.Search('search_input');\n",
      "    Error fetching javascript:SiteSearch.Search('search_input');: No connection adapters were found for \"javascript:SiteSearch.Search('search_input');\"\n",
      "    javascript:SiteSearch.Search('search_slide_input');\n",
      "    Error fetching javascript:SiteSearch.Search('search_slide_input');: No connection adapters were found for \"javascript:SiteSearch.Search('search_slide_input');\"\n",
      "    https://academics.depaul.edu/calendar/Pages/default.aspx\n",
      "    https://academics.depaul.edu/calendar/Pages/default.aspx\n",
      "    https://academics.depaul.edu/calendar/Pages/law-calendar.aspx\n",
      "    https://academics.depaul.edu/calendar/Pages/finals-calendar.aspx\n",
      "    https://academics.depaul.edu/calendar/Pages/religious-observance-calendar.aspx\n",
      "    https://offices.depaul.edu/academic-affairs\n",
      "    https://academics.depaul.edu/calendar/Pages/archive.aspx\n",
      "    https://academics.depaul.edu/calendar/Pages/default.aspx#dpushortcuts\n",
      "    https://academics.depaul.edu/calendar/Pages/default.aspx\n",
      "    https://catalog.depaul.edu/\n",
      "    https://resources.depaul.edu/student-success/Pages/default.aspx\n",
      "    https://bluemail.depaul.edu\n",
      "    https://campusconnect.depaul.edu/\n",
      "    https://d2l.depaul.edu/\n",
      "    https://library.depaul.edu/Pages/default.aspx\n",
      "    https://offices.depaul.edu/depaul-central/Pages/default.aspx\n",
      "    https://offices.depaul.edu/public-safety/Pages/default.aspx\n",
      "    https://depaul.bncollege.com/\n",
      "    https://www.depaul.edu/campus-maps/Pages/default.aspx\n",
      "    https://events.depaul.edu/\n",
      "    https://ekze.fa.us2.oraclecloud.com/hcmUI/faces/FndOverview?fnd=%3B%3B%3B%3Bfalse%3B256%3B%3B%3B&fndGlobalItemNodeId=PER_HCMPEOPLETOP_FUSE_DIRECTORY\n",
      "    http://www.depaulbluedemons.com/\n",
      "    https://www.depaul.edu/Pages/employment-at-depaul.aspx\n",
      "    https://www.depaul.edu/utilities/Pages/a-z-websites.aspx\n",
      "    https://depaul.service-now.com/sp\n",
      "    https://alumni.depaul.edu/\n",
      "    Error fetching https://alumni.depaul.edu/: 403 Client Error: Forbidden for url: https://www.alumni.depaul.edu/\n",
      "    https://www.depaul.edu/Pages/students.aspx\n",
      "    https://www.depaul.edu/Pages/faculty.aspx\n",
      "    http://go.depaul.edu/apply\n",
      "    http://go.depaul.edu/requestinfo\n",
      "    http://go.depaul.edu/visit\n",
      "    https://academics.depaul.edu/calendar/Pages/default.aspx\n",
      "    https://academics.depaul.edu/calendar/Pages/law-calendar.aspx\n",
      "    https://academics.depaul.edu/calendar/Pages/finals-calendar.aspx\n",
      "    https://academics.depaul.edu/calendar/Pages/religious-observance-calendar.aspx\n",
      "    https://offices.depaul.edu/academic-affairs\n",
      "    https://academics.depaul.edu/calendar/Pages/archive.aspx\n",
      "    https://academics.depaul.edu/calendar\n",
      "    https://academics.depaul.edu/calendar/Pages/default.aspx\n",
      "    https://academics.depaul.edu/calendar/Pages/default.aspx\n",
      "    https://academics.depaul.edu/calendar/Pages/default.aspx\n",
      "    tel:312-362-8000\n",
      "    Error fetching tel:312-362-8000: No connection adapters were found for 'tel:312-362-8000'\n",
      "    mailto:URSupport@depaul.edu\n",
      "    Error fetching mailto:URSupport@depaul.edu: No connection adapters were found for 'mailto:URSupport@depaul.edu'\n",
      "    https://www.depaul.edu/Pages/copyright.aspx\n",
      "    https://www.depaul.edu/Pages/disclaimer.aspx\n",
      "    https://www.depaul.edu/Pages/contact-us.aspx\n",
      "    https://emergencyplan.depaul.edu/Pages/default.aspx\n",
      "    https://www.depaul.edu/Pages/consumer-info.aspx\n",
      "    https://complaints.ibhe.org/\n",
      "    https://go.depaul.edu/privacy\n",
      "    https://academics.depaul.edu/calendar/Pages/default.aspx\n",
      "  https://campusconnect.depaul.edu/\n",
      "  http://academicintegrity.depaul.edu/\n",
      "    http://academicintegrity.depaul.edu/\n",
      "    http://academicintegrity.depaul.edu/\n",
      "    javascript:;\n",
      "    Error fetching javascript:;: No connection adapters were found for 'javascript:;'\n",
      "    javascript:;\n",
      "    Error fetching javascript:;: No connection adapters were found for 'javascript:;'\n",
      "    http://academicintegrity.depaul.edu/\n",
      "    http://academicintegrity.depaul.edu/\n",
      "    javascript:;\n",
      "    Error fetching javascript:;: No connection adapters were found for 'javascript:;'\n",
      "    https://academics.depaul.edu/calendar/Pages/default.aspx\n",
      "    https://catalog.depaul.edu/\n",
      "    https://resources.depaul.edu/student-success/Pages/default.aspx\n",
      "     https://bluemail.depaul.edu\n",
      "    https://campusconnect.depaul.edu/\n",
      "    https://d2l.depaul.edu/\n",
      "    https://library.depaul.edu/Pages/default.aspx\n",
      "    https://offices.depaul.edu/depaul-central/Pages/default.aspx\n",
      "    https://offices.depaul.edu/public-safety/Pages/default.aspx\n",
      "    https://depaul.bncollege.com/\n",
      "    https://www.depaul.edu/campus-maps/Pages/default.aspx\n",
      "    https://events.depaul.edu/\n",
      "    https://ekze.fa.us2.oraclecloud.com/hcmUI/faces/FndOverview?fnd=%3B%3B%3B%3Bfalse%3B256%3B%3B%3B&fndGlobalItemNodeId=PER_HCMPEOPLETOP_FUSE_DIRECTORY\n",
      "    http://www.depaulbluedemons.com/\n",
      "    https://www.depaul.edu/Pages/employment-at-depaul.aspx\n",
      "    https://www.depaul.edu/utilities/Pages/a-z-websites.aspx\n",
      "    https://depaul.service-now.com/sp\n",
      "    https://alumni.depaul.edu/\n",
      "    Error fetching https://alumni.depaul.edu/: 403 Client Error: Forbidden for url: https://www.alumni.depaul.edu/\n",
      "    https://www.depaul.edu/Pages/students.aspx\n",
      "    https://www.depaul.edu/Pages/faculty.aspx\n",
      "    https://www.depaul.edu/\n",
      "    http://academicintegrity.depaul.edu/academic-affairs/\n",
      "    http://academicintegrity.depaul.edu/academic-affairs/\n",
      "    http://academicintegrity.depaul.edu/academic-affairs/\n",
      "    http://academicintegrity.depaul.edu/#depaulShortcuts\n",
      "    javascript:SiteSearch.Search('search_input');\n",
      "    Error fetching javascript:SiteSearch.Search('search_input');: No connection adapters were found for \"javascript:SiteSearch.Search('search_input');\"\n",
      "    javascript:SiteSearch.Search('search_slide_input');\n",
      "    Error fetching javascript:SiteSearch.Search('search_slide_input');: No connection adapters were found for \"javascript:SiteSearch.Search('search_slide_input');\"\n",
      "    http://academicintegrity.depaul.edu/academic-affairs/faculty-resources/Pages/default.aspx\n",
      "    http://academicintegrity.depaul.edu/academic-affairs/faculty-resources/teaching/Pages/default.aspx\n",
      "    http://academicintegrity.depaul.edu/academic-affairs/faculty-resources/academic-integrity/Pages/default.aspx\n",
      "    http://academicintegrity.depaul.edu/academic-affairs/faculty-resources/academic-integrity/Pages/violation.aspx\n",
      "    http://academicintegrity.depaul.edu/academic-affairs/faculty-resources/academic-integrity/Pages/definitions.aspx\n",
      "    http://academicintegrity.depaul.edu/academic-affairs/faculty-resources/academic-integrity/Pages/hearings.aspx\n",
      "    http://academicintegrity.depaul.edu/academic-affairs/faculty-resources/academic-integrity/Pages/resources.aspx\n",
      "    http://academicintegrity.depaul.edu/academic-affairs/faculty-resources/academic-integrity/Pages/student-faqs.aspx\n",
      "    http://academicintegrity.depaul.edu/academic-affairs/faculty-resources/scholarship/Pages/default.aspx\n",
      "    http://academicintegrity.depaul.edu/academic-affairs/faculty-resources/service/Pages/default.aspx\n",
      "    http://academicintegrity.depaul.edu/academic-affairs/faculty-resources/working-at-depaul/Pages/default.aspx\n",
      "    http://academicintegrity.depaul.edu/academic-affairs/faculty-resources/interfolio/Pages/default.aspx\n",
      "    http://academicintegrity.depaul.edu/academic-affairs/faculty-resources/adjunct-resources/Pages/default.aspx\n",
      "    http://academicintegrity.depaul.edu/academic-affairs/faculty-resources/Pages/Faculty-Exit-Interviews.aspx\n",
      "    http://academicintegrity.depaul.edu/academic-affairs/faculty-resources/Pages/Faculty-Search-Resources.aspx\n",
      "    http://academicintegrity.depaul.edu/academic-affairs/faculty-resources/Pages/facultymentoring.aspx\n",
      "    http://academicintegrity.depaul.edu/academic-affairs/about/Pages/default.aspx\n",
      "    http://academicintegrity.depaul.edu/academic-affairs/faculty-resources/Pages/default.aspx\n",
      "    http://academicintegrity.depaul.edu/academic-affairs/leadership-resources/Pages/default.aspx\n",
      "    http://academicintegrity.depaul.edu/academic-affairs/governance/Pages/default.aspx\n",
      "    http://academicintegrity.depaul.edu/academic-affairs/academic-diversity/Pages/default.aspx\n",
      "    https://academics.depaul.edu/faculty-jobs/Pages/default.aspx\n",
      "    http://academicintegrity.depaul.edu/academic-affairs/academic-calendar/Pages/default.aspx\n",
      "    http://academicintegrity.depaul.edu/#dpushortcuts\n",
      "    https://academics.depaul.edu/calendar/Pages/default.aspx\n",
      "    https://catalog.depaul.edu/\n",
      "    https://resources.depaul.edu/student-success/Pages/default.aspx\n",
      "     https://bluemail.depaul.edu\n",
      "    https://campusconnect.depaul.edu/\n",
      "    https://d2l.depaul.edu/\n",
      "    https://library.depaul.edu/Pages/default.aspx\n",
      "    https://offices.depaul.edu/depaul-central/Pages/default.aspx\n",
      "    https://offices.depaul.edu/public-safety/Pages/default.aspx\n",
      "    https://depaul.bncollege.com/\n",
      "    https://www.depaul.edu/campus-maps/Pages/default.aspx\n",
      "    https://events.depaul.edu/\n",
      "    https://ekze.fa.us2.oraclecloud.com/hcmUI/faces/FndOverview?fnd=%3B%3B%3B%3Bfalse%3B256%3B%3B%3B&fndGlobalItemNodeId=PER_HCMPEOPLETOP_FUSE_DIRECTORY\n",
      "    http://www.depaulbluedemons.com/\n",
      "    https://www.depaul.edu/Pages/employment-at-depaul.aspx\n",
      "    https://www.depaul.edu/utilities/Pages/a-z-websites.aspx\n",
      "    https://depaul.service-now.com/sp\n",
      "    https://alumni.depaul.edu/\n",
      "    Error fetching https://alumni.depaul.edu/: 403 Client Error: Forbidden for url: https://www.alumni.depaul.edu/\n",
      "    https://www.depaul.edu/Pages/students.aspx\n",
      "    https://www.depaul.edu/Pages/faculty.aspx\n",
      "    http://academicintegrity.depaul.edu/academic-affairs/about/Pages/default.aspx\n",
      "    http://academicintegrity.depaul.edu/academic-affairs/about/Pages/staff.aspx\n",
      "    http://academicintegrity.depaul.edu/academic-affairs/about/Pages/organizational-chart.aspx\n",
      "    http://academicintegrity.depaul.edu/academic-affairs/about/events/Pages/default.aspx\n",
      "    http://academicintegrity.depaul.edu/academic-affairs/about/initiatives/Pages/default.aspx\n",
      "    http://academicintegrity.depaul.edu/academic-affairs/faculty-resources/Pages/default.aspx\n",
      "    http://academicintegrity.depaul.edu/academic-affairs/faculty-resources/teaching/Pages/default.aspx\n",
      "    http://academicintegrity.depaul.edu/academic-affairs/faculty-resources/academic-integrity/Pages/default.aspx\n",
      "    http://academicintegrity.depaul.edu/academic-affairs/faculty-resources/scholarship/Pages/default.aspx\n",
      "    http://academicintegrity.depaul.edu/academic-affairs/faculty-resources/service/Pages/default.aspx\n",
      "    http://academicintegrity.depaul.edu/academic-affairs/faculty-resources/working-at-depaul/Pages/default.aspx\n",
      "    http://academicintegrity.depaul.edu/academic-affairs/faculty-resources/interfolio/Pages/default.aspx\n",
      "    http://academicintegrity.depaul.edu/academic-affairs/faculty-resources/adjunct-resources/Pages/default.aspx\n",
      "    http://academicintegrity.depaul.edu/academic-affairs/faculty-resources/Pages/Faculty-Exit-Interviews.aspx\n",
      "    http://academicintegrity.depaul.edu/academic-affairs/faculty-resources/Pages/Faculty-Search-Resources.aspx\n",
      "    http://academicintegrity.depaul.edu/academic-affairs/faculty-resources/Pages/facultymentoring.aspx\n",
      "    http://academicintegrity.depaul.edu/academic-affairs/leadership-resources/Pages/default.aspx\n",
      "    http://academicintegrity.depaul.edu/academic-affairs/leadership-resources/hiring-managing/Pages/default.aspx\n",
      "    http://academicintegrity.depaul.edu/academic-affairs/leadership-resources/assessment/Pages/default.aspx\n",
      "    http://academicintegrity.depaul.edu/academic-affairs/leadership-resources/space/Pages/default.aspx\n",
      "    http://academicintegrity.depaul.edu/academic-affairs/leadership-resources/Pages/student-support.aspx\n",
      "    http://academicintegrity.depaul.edu/academic-affairs/governance/Pages/default.aspx\n",
      "    http://academicintegrity.depaul.edu/academic-affairs/academic-diversity/Pages/default.aspx\n",
      "    http://academicintegrity.depaul.edu/academic-affairs/academic-diversity/Pages/NCFDD.aspx\n",
      "    http://academicintegrity.depaul.edu/academic-affairs/academic-diversity/Pages/Diversity-Advocates.aspx\n",
      "    http://academicintegrity.depaul.edu/academic-affairs/academic-diversity/Pages/Diversity-and-Inclusion-initiative-Grants.aspx\n",
      "    http://academicintegrity.depaul.edu/academic-affairs/academic-diversity/Pages/DIIG-Awardees.aspx\n",
      "    http://academicintegrity.depaul.edu/academic-affairs/academic-diversity/Pages/Provost-Award-for-Diversity-Equity-and-Inclusion.aspx\n",
      "    http://academicintegrity.depaul.edu/academic-affairs/academic-diversity/Pages/faculty-search-resources.aspx\n",
      "    http://academicintegrity.depaul.edu/academic-affairs/academic-diversity/Pages/annual-faculty-diversity-report.aspx\n",
      "    https://academics.depaul.edu/faculty-jobs/Pages/default.aspx\n",
      "    http://academicintegrity.depaul.edu/academic-affairs/academic-calendar/Pages/default.aspx\n",
      "    http://academicintegrity.depaul.edu/academic-affairs/faculty-resources/academic-integrity\n",
      "    http://academicintegrity.depaul.edu/academic-affairs/faculty-resources/Pages/default.aspx\n",
      "    http://academicintegrity.depaul.edu/academic-affairs/faculty-resources/teaching/Pages/default.aspx\n",
      "    http://academicintegrity.depaul.edu/academic-affairs/faculty-resources/academic-integrity/Pages/default.aspx\n",
      "    http://academicintegrity.depaul.edu/academic-affairs/faculty-resources/academic-integrity/Pages/violation.aspx\n",
      "    http://academicintegrity.depaul.edu/academic-affairs/faculty-resources/academic-integrity/Pages/definitions.aspx\n",
      "    http://academicintegrity.depaul.edu/academic-affairs/faculty-resources/academic-integrity/Pages/hearings.aspx\n",
      "    http://academicintegrity.depaul.edu/academic-affairs/faculty-resources/academic-integrity/Pages/resources.aspx\n",
      "    http://academicintegrity.depaul.edu/academic-affairs/faculty-resources/academic-integrity/Pages/student-faqs.aspx\n",
      "    http://academicintegrity.depaul.edu/academic-affairs/faculty-resources/scholarship/Pages/default.aspx\n",
      "    http://academicintegrity.depaul.edu/academic-affairs/faculty-resources/service/Pages/default.aspx\n",
      "    http://academicintegrity.depaul.edu/academic-affairs/faculty-resources/working-at-depaul/Pages/default.aspx\n",
      "    http://academicintegrity.depaul.edu/academic-affairs/faculty-resources/interfolio/Pages/default.aspx\n",
      "    http://academicintegrity.depaul.edu/academic-affairs/faculty-resources/adjunct-resources/Pages/default.aspx\n",
      "    http://academicintegrity.depaul.edu/academic-affairs/faculty-resources/Pages/Faculty-Exit-Interviews.aspx\n",
      "    http://academicintegrity.depaul.edu/academic-affairs/faculty-resources/Pages/Faculty-Search-Resources.aspx\n",
      "    http://academicintegrity.depaul.edu/academic-affairs/faculty-resources/Pages/facultymentoring.aspx\n",
      "    http://academicintegrity.depaul.edu/academic-affairs/Pages/default.aspx\n",
      "    http://academicintegrity.depaul.edu/academic-affairs/faculty-resources/Pages/default.aspx\n",
      "    http://academicintegrity.depaul.edu/academic-affairs/faculty-resources/academic-integrity/Pages/violation.aspx\n",
      "    http://academicintegrity.depaul.edu/academic-affairs/faculty-resources/academic-integrity/Pages/definitions.aspx\n",
      "    http://academicintegrity.depaul.edu/academic-affairs/faculty-resources/academic-integrity/Pages/hearings.aspx\n",
      "    http://academicintegrity.depaul.edu/academic-affairs/faculty-resources/academic-integrity/Documents/Academic%20Integrity%20Policy_2023.pdf\n",
      "    http://academicintegrity.depaul.edu/academic-affairs/faculty-resources/academic-integrity/Pages/resources.aspx\n",
      "    http://academicintegrity.depaul.edu/academic-affairs/Pages/default.aspx\n",
      "    tel:312-362-8875\n",
      "    Error fetching tel:312-362-8875: No connection adapters were found for 'tel:312-362-8875'\n",
      "    https://www.depaul.edu/Pages/copyright.aspx\n",
      "    https://www.depaul.edu/Pages/disclaimer.aspx\n",
      "    https://www.depaul.edu/Pages/contact-us.aspx\n",
      "    https://emergencyplan.depaul.edu/Pages/default.aspx\n",
      "    https://www.depaul.edu/Pages/consumer-info.aspx\n",
      "    https://complaints.ibhe.org/\n",
      "    https://go.depaul.edu/privacy\n",
      "    http://academicintegrity.depaul.edu/\n",
      "  https://academics.depaul.edu/calendar/Pages/default.aspx\n",
      "    https://academics.depaul.edu/calendar/Pages/default.aspx\n",
      "    https://academics.depaul.edu/calendar/Pages/default.aspx\n",
      "    javascript:;\n",
      "    Error fetching javascript:;: No connection adapters were found for 'javascript:;'\n",
      "    javascript:;\n",
      "    Error fetching javascript:;: No connection adapters were found for 'javascript:;'\n",
      "    https://academics.depaul.edu/calendar/Pages/default.aspx\n",
      "    https://academics.depaul.edu/calendar/Pages/default.aspx\n",
      "    javascript:;\n",
      "    Error fetching javascript:;: No connection adapters were found for 'javascript:;'\n",
      "    https://academics.depaul.edu/calendar/Pages/default.aspx\n",
      "    https://catalog.depaul.edu/\n",
      "    https://resources.depaul.edu/student-success/Pages/default.aspx\n",
      "    https://bluemail.depaul.edu\n",
      "    https://campusconnect.depaul.edu/\n",
      "    https://d2l.depaul.edu/\n",
      "    https://library.depaul.edu/Pages/default.aspx\n",
      "    https://offices.depaul.edu/depaul-central/Pages/default.aspx\n",
      "    https://offices.depaul.edu/public-safety/Pages/default.aspx\n",
      "    https://depaul.bncollege.com/\n",
      "    https://www.depaul.edu/campus-maps/Pages/default.aspx\n",
      "    https://events.depaul.edu/\n",
      "    https://ekze.fa.us2.oraclecloud.com/hcmUI/faces/FndOverview?fnd=%3B%3B%3B%3Bfalse%3B256%3B%3B%3B&fndGlobalItemNodeId=PER_HCMPEOPLETOP_FUSE_DIRECTORY\n",
      "    http://www.depaulbluedemons.com/\n",
      "    https://www.depaul.edu/Pages/employment-at-depaul.aspx\n",
      "    https://www.depaul.edu/utilities/Pages/a-z-websites.aspx\n",
      "    https://depaul.service-now.com/sp\n",
      "    https://alumni.depaul.edu/\n",
      "    Error fetching https://alumni.depaul.edu/: 403 Client Error: Forbidden for url: https://www.alumni.depaul.edu/\n",
      "    https://www.depaul.edu/Pages/students.aspx\n",
      "    https://www.depaul.edu/Pages/faculty.aspx\n",
      "    http://www.depaul.edu/\n",
      "    https://www.depaul.edu/Pages/default.aspx\n",
      "    https://academics.depaul.edu/calendar/Pages/default.aspx\n",
      "    https://academics.depaul.edu/calendar/Pages/default.aspx\n",
      "    https://academics.depaul.edu/calendar/Pages/default.aspx#depaulShortcuts\n",
      "    javascript:SiteSearch.Search('search_input');\n",
      "    Error fetching javascript:SiteSearch.Search('search_input');: No connection adapters were found for \"javascript:SiteSearch.Search('search_input');\"\n",
      "    javascript:SiteSearch.Search('search_slide_input');\n",
      "    Error fetching javascript:SiteSearch.Search('search_slide_input');: No connection adapters were found for \"javascript:SiteSearch.Search('search_slide_input');\"\n",
      "    https://academics.depaul.edu/calendar/Pages/default.aspx\n",
      "    https://academics.depaul.edu/calendar/Pages/default.aspx\n",
      "    https://academics.depaul.edu/calendar/Pages/law-calendar.aspx\n",
      "    https://academics.depaul.edu/calendar/Pages/finals-calendar.aspx\n",
      "    https://academics.depaul.edu/calendar/Pages/religious-observance-calendar.aspx\n",
      "    https://offices.depaul.edu/academic-affairs\n",
      "    https://academics.depaul.edu/calendar/Pages/archive.aspx\n",
      "    https://academics.depaul.edu/calendar/Pages/default.aspx#dpushortcuts\n",
      "    https://academics.depaul.edu/calendar/Pages/default.aspx\n",
      "    https://catalog.depaul.edu/\n",
      "    https://resources.depaul.edu/student-success/Pages/default.aspx\n",
      "    https://bluemail.depaul.edu\n",
      "    https://campusconnect.depaul.edu/\n",
      "    https://d2l.depaul.edu/\n",
      "    https://library.depaul.edu/Pages/default.aspx\n",
      "    https://offices.depaul.edu/depaul-central/Pages/default.aspx\n",
      "    https://offices.depaul.edu/public-safety/Pages/default.aspx\n",
      "    https://depaul.bncollege.com/\n",
      "    https://www.depaul.edu/campus-maps/Pages/default.aspx\n",
      "    https://events.depaul.edu/\n",
      "    https://ekze.fa.us2.oraclecloud.com/hcmUI/faces/FndOverview?fnd=%3B%3B%3B%3Bfalse%3B256%3B%3B%3B&fndGlobalItemNodeId=PER_HCMPEOPLETOP_FUSE_DIRECTORY\n",
      "    http://www.depaulbluedemons.com/\n",
      "    https://www.depaul.edu/Pages/employment-at-depaul.aspx\n",
      "    https://www.depaul.edu/utilities/Pages/a-z-websites.aspx\n",
      "    https://depaul.service-now.com/sp\n",
      "    https://alumni.depaul.edu/\n",
      "    Error fetching https://alumni.depaul.edu/: 403 Client Error: Forbidden for url: https://www.alumni.depaul.edu/\n",
      "    https://www.depaul.edu/Pages/students.aspx\n",
      "    https://www.depaul.edu/Pages/faculty.aspx\n",
      "    http://go.depaul.edu/apply\n",
      "    http://go.depaul.edu/requestinfo\n",
      "    http://go.depaul.edu/visit\n",
      "    https://academics.depaul.edu/calendar/Pages/default.aspx\n",
      "    https://academics.depaul.edu/calendar/Pages/law-calendar.aspx\n",
      "    https://academics.depaul.edu/calendar/Pages/finals-calendar.aspx\n",
      "    https://academics.depaul.edu/calendar/Pages/religious-observance-calendar.aspx\n",
      "    https://offices.depaul.edu/academic-affairs\n",
      "    https://academics.depaul.edu/calendar/Pages/archive.aspx\n",
      "    https://academics.depaul.edu/calendar\n",
      "    https://academics.depaul.edu/calendar/Pages/default.aspx\n",
      "    https://academics.depaul.edu/calendar/Pages/default.aspx\n",
      "    https://academics.depaul.edu/calendar/Pages/default.aspx\n",
      "    tel:312-362-8000\n",
      "    Error fetching tel:312-362-8000: No connection adapters were found for 'tel:312-362-8000'\n",
      "    mailto:URSupport@depaul.edu\n",
      "    Error fetching mailto:URSupport@depaul.edu: No connection adapters were found for 'mailto:URSupport@depaul.edu'\n",
      "    https://www.depaul.edu/Pages/copyright.aspx\n",
      "    https://www.depaul.edu/Pages/disclaimer.aspx\n",
      "    https://www.depaul.edu/Pages/contact-us.aspx\n",
      "    https://emergencyplan.depaul.edu/Pages/default.aspx\n",
      "    https://www.depaul.edu/Pages/consumer-info.aspx\n",
      "    https://complaints.ibhe.org/\n",
      "    https://go.depaul.edu/privacy\n",
      "    https://academics.depaul.edu/calendar/Pages/default.aspx\n",
      "  http://www.cdm.depaul.edu/Current%20Students/Pages/PoliciesandProcedures.aspx\n",
      "    http://www.cdm.depaul.edu/Current%20Students/Pages/PoliciesandProcedures.aspx#ctl00_PageBody\n",
      "    http://www.cdm.depaul.edu/about/Pages/alert.aspx\n",
      "    http://go.depaul.edu/covid\n",
      "    http://www.depaul.edu\n",
      "    http://www.cdm.depaul.edu/\n",
      "    http://www.cdm.depaul.edu/academics/Pages/School-of-Cinematic-Arts.aspx\n",
      "    http://www.cdm.depaul.edu/academics/Pages/School-of-Computing.aspx\n",
      "    http://www.cdm.depaul.edu/academics/Pages/School-of-Design.aspx\n",
      "    https://my.cdm.depaul.edu/v2\n",
      "    https://campusconnect.depaul.edu/\n",
      "    https://d2l.depaul.edu\n",
      "    https://academics.depaul.edu/calendar/Pages/default.aspx\n",
      "    https://academics.depaul.edu/calendar/Pages/finals-calendar.aspx\n",
      "    https://onedepaul.depaul.edu/\n",
      "    http://www.cdm.depaul.edu/\n",
      "    http://www.cdm.depaul.edu/about/Pages/About.aspx\n",
      "    http://www.cdm.depaul.edu/about/Pages/ContactUs.aspx\n",
      "    http://www.cdm.depaul.edu/about/Pages/RSVP.aspx\n",
      "    http://www.cdm.depaul.edu/about/Pages/Partnerships-and-Outreach.aspx\n",
      "    http://www.cdm.depaul.edu/about/Pages/Alumni/Alumni.aspx\n",
      "    http://www.cdm.depaul.edu/about/Pages/diversity-equity-inclusion.aspx\n",
      "    http://www.cdm.depaul.edu/about/Pages/Jobs.aspx\n",
      "    https://securelb.imodules.com/s/1906/19/interior.aspx?sid=1906&gid=2&pgid=853&cid=2668\n",
      "    Error fetching https://securelb.imodules.com/s/1906/19/interior.aspx?sid=1906&gid=2&pgid=853&cid=2668: 403 Client Error: Forbidden for url: https://securelb.imodules.com/s/1906/19/interior.aspx?sid=1906&gid=2&pgid=853&cid=2668\n",
      "    http://www.cdm.depaul.edu/Admission-and-Aid/Pages/Prospective-Students.aspx\n",
      "    http://www.cdm.depaul.edu/Admission-and-Aid/Pages/UndergraduateAdmissions.aspx\n",
      "    http://www.cdm.depaul.edu/Admission-and-Aid/Pages/GraduateAdmissions.aspx\n",
      "    http://www.cdm.depaul.edu/Admission-and-Aid/Pages/InternationalAdmissions.aspx\n",
      "    http://www.cdm.depaul.edu/Admission-and-Aid/Pages/NonDegreeOptions.aspx\n",
      "    http://www.cdm.depaul.edu/Admission-and-Aid/Pages/TuitionandFinancialAid.aspx\n",
      "    http://www.cdm.depaul.edu/Admission-and-Aid/Pages/StudentAmbassadors.aspx\n",
      "    http://www.cdm.depaul.edu/academics/Pages/Academics.aspx\n",
      "    http://www.cdm.depaul.edu/academics/Pages/School-of-Cinematic-Arts.aspx\n",
      "    http://www.cdm.depaul.edu/academics/Pages/School-of-Computing.aspx\n",
      "    http://www.cdm.depaul.edu/academics/Pages/School-of-Design.aspx\n",
      "    http://www.cdm.depaul.edu/academics/Pages/Majors-and-Degrees.aspx\n",
      "    http://www.cdm.depaul.edu/academics/Pages/Undergraduate-Programs.aspx\n",
      "    http://www.cdm.depaul.edu/academics/Pages/Graduate-Programs.aspx\n",
      "    http://www.cdm.depaul.edu/academics/Pages/CombinedDegrees.aspx\n",
      "    http://www.cdm.depaul.edu/academics/Pages/Certificates.aspx\n",
      "    http://www.cdm.depaul.edu/onlinelearning/Pages/default.aspx\n",
      "    http://www.cdm.depaul.edu/academics/Pages/DePaul-Los-Angeles.aspx\n",
      "    http://www.cdm.depaul.edu/academics/Pages/Study-Abroad.aspx\n",
      "    http://www.cdm.depaul.edu/academics/Pages/high-school-programs.aspx\n",
      "    http://www.cdm.depaul.edu/Faculty-and-Staff/Pages/Faculty-and-Staff.aspx\n",
      "    http://www.cdm.depaul.edu/Faculty-and-Staff/Pages/Administration.aspx\n",
      "    http://www.cdm.depaul.edu/Faculty-and-Staff/Pages/Faculty.aspx\n",
      "    http://www.cdm.depaul.edu/Faculty-and-Staff/Pages/Research-and-Creative-Activities.aspx\n",
      "    http://www.cdm.depaul.edu/Student-Resources/Pages/Current-Students.aspx\n",
      "    http://www.cdm.depaul.edu/Student-Resources/Pages/MeetOurStaff.aspx\n",
      "    http://www.cdm.depaul.edu/Student-Resources/Pages/Student-Tutoring.aspx\n",
      "    http://www.cdm.depaul.edu/Student-Resources/Pages/LabsAndResources/Labs-and-Software.aspx\n",
      "    http://www.cdm.depaul.edu/Student-Resources/Pages/Production-Resources.aspx\n",
      "    http://www.cdm.depaul.edu/Student-Resources/Pages/Student-Research.aspx\n",
      "    http://www.cdm.depaul.edu/Student-Resources/Pages/CDM-Tuition-Funding.aspx\n",
      "    http://www.cdm.depaul.edu/Student-Resources/Pages/Organizations.aspx\n",
      "    http://www.cdm.depaul.edu/Student-Resources/Pages/Jobs-Splash.aspx\n",
      "    http://www.cdm.depaul.edu/Student-Resources/Pages/PoliciesandProcedures.aspx\n",
      "    http://www.cdm.depaul.edu/Student-Resources/Pages/faq.aspx\n",
      "    http://www.cdm.depaul.edu/Student-Resources/Pages/Women-at-CDM.aspx\n",
      "    http://www.cdm.depaul.edu/Admission-and-Aid/Pages/RequestInformation.aspx\n",
      "    https://www.depaul.edu/apply/Pages/default.aspx\n",
      "    http://www.cdm.depaul.edu/\n",
      "    http://www.cdm.depaul.edu/about/Pages/About.aspx\n",
      "    http://www.cdm.depaul.edu/about/Pages/ContactUs.aspx\n",
      "    http://www.cdm.depaul.edu/about/Pages/RSVP.aspx\n",
      "    http://www.cdm.depaul.edu/about/Pages/Partnerships-and-Outreach.aspx\n",
      "    http://www.cdm.depaul.edu/about/Pages/Alumni/Alumni.aspx\n",
      "    http://www.cdm.depaul.edu/about/Pages/diversity-equity-inclusion.aspx\n",
      "    http://www.cdm.depaul.edu/about/Pages/Jobs.aspx\n",
      "    https://securelb.imodules.com/s/1906/19/interior.aspx?sid=1906&gid=2&pgid=853&cid=2668\n",
      "    Error fetching https://securelb.imodules.com/s/1906/19/interior.aspx?sid=1906&gid=2&pgid=853&cid=2668: 403 Client Error: Forbidden for url: https://securelb.imodules.com/s/1906/19/interior.aspx?sid=1906&gid=2&pgid=853&cid=2668\n",
      "    http://www.cdm.depaul.edu/Admission-and-Aid/Pages/Prospective-Students.aspx\n",
      "    http://www.cdm.depaul.edu/Admission-and-Aid/Pages/UndergraduateAdmissions.aspx\n",
      "    http://www.cdm.depaul.edu/Admission-and-Aid/Pages/GraduateAdmissions.aspx\n",
      "    http://www.cdm.depaul.edu/Admission-and-Aid/Pages/InternationalAdmissions.aspx\n",
      "    http://www.cdm.depaul.edu/Admission-and-Aid/Pages/NonDegreeOptions.aspx\n",
      "    http://www.cdm.depaul.edu/Admission-and-Aid/Pages/TuitionandFinancialAid.aspx\n",
      "    http://www.cdm.depaul.edu/Admission-and-Aid/Pages/StudentAmbassadors.aspx\n",
      "    http://www.cdm.depaul.edu/academics/Pages/Academics.aspx\n",
      "    http://www.cdm.depaul.edu/academics/Pages/School-of-Cinematic-Arts.aspx\n",
      "    http://www.cdm.depaul.edu/academics/Pages/School-of-Computing.aspx\n",
      "    http://www.cdm.depaul.edu/academics/Pages/School-of-Design.aspx\n",
      "    http://www.cdm.depaul.edu/academics/Pages/Majors-and-Degrees.aspx\n",
      "    http://www.cdm.depaul.edu/academics/Pages/Undergraduate-Programs.aspx\n",
      "    http://www.cdm.depaul.edu/academics/Pages/Graduate-Programs.aspx\n",
      "    http://www.cdm.depaul.edu/academics/Pages/CombinedDegrees.aspx\n",
      "    http://www.cdm.depaul.edu/academics/Pages/Certificates.aspx\n",
      "    http://www.cdm.depaul.edu/onlinelearning/Pages/default.aspx\n",
      "    http://www.cdm.depaul.edu/academics/Pages/DePaul-Los-Angeles.aspx\n",
      "    http://www.cdm.depaul.edu/academics/Pages/Study-Abroad.aspx\n",
      "    http://www.cdm.depaul.edu/academics/Pages/high-school-programs.aspx\n",
      "    http://www.cdm.depaul.edu/Faculty-and-Staff/Pages/Faculty-and-Staff.aspx\n",
      "    http://www.cdm.depaul.edu/Faculty-and-Staff/Pages/Administration.aspx\n",
      "    http://www.cdm.depaul.edu/Faculty-and-Staff/Pages/Faculty.aspx\n",
      "    http://www.cdm.depaul.edu/Faculty-and-Staff/Pages/Research-and-Creative-Activities.aspx\n",
      "    http://www.cdm.depaul.edu/Student-Resources/Pages/Current-Students.aspx\n",
      "    http://www.cdm.depaul.edu/Student-Resources/Pages/MeetOurStaff.aspx\n",
      "    http://www.cdm.depaul.edu/Student-Resources/Pages/Student-Tutoring.aspx\n",
      "    http://www.cdm.depaul.edu/Student-Resources/Pages/LabsAndResources/Labs-and-Software.aspx\n",
      "    http://www.cdm.depaul.edu/Student-Resources/Pages/Production-Resources.aspx\n",
      "    http://www.cdm.depaul.edu/Student-Resources/Pages/Student-Research.aspx\n",
      "    http://www.cdm.depaul.edu/Student-Resources/Pages/CDM-Tuition-Funding.aspx\n",
      "    http://www.cdm.depaul.edu/Student-Resources/Pages/Organizations.aspx\n",
      "    http://www.cdm.depaul.edu/Student-Resources/Pages/Jobs-Splash.aspx\n",
      "    http://www.cdm.depaul.edu/Student-Resources/Pages/PoliciesandProcedures.aspx\n",
      "    http://www.cdm.depaul.edu/Student-Resources/Pages/faq.aspx\n",
      "    http://www.cdm.depaul.edu/Student-Resources/Pages/Women-at-CDM.aspx\n",
      "    http://www.cdm.depaul.edu/Admission-and-Aid/Pages/RequestInformation.aspx\n",
      "    https://www.depaul.edu/apply/Pages/default.aspx\n",
      "    http://www.cdm.depaul.edu/academics/Pages/School-of-Cinematic-Arts.aspx\n",
      "    http://www.cdm.depaul.edu/academics/Pages/School-of-Computing.aspx\n",
      "    http://www.cdm.depaul.edu/academics/Pages/School-of-Design.aspx\n",
      "    https://my.cdm.depaul.edu/v2\n",
      "    https://campusconnect.depaul.edu/\n",
      "    https://d2l.depaul.edu\n",
      "    https://academics.depaul.edu/calendar/Pages/default.aspx\n",
      "    http://www.cdm.depaul.edu/academics/Pages/CourseCatalog.aspx\n",
      "    http://www.cdm.depaul.edu/academics/Pages/CourseSchedule.aspx\n",
      "    https://academics.depaul.edu/calendar/Pages/finals-calendar.aspx\n",
      "    https://onedepaul.depaul.edu/\n",
      "    http://www.cdm.depaul.edu/Student-Resources/Pages/MeetOurStaff.aspx\n",
      "    http://www.cdm.depaul.edu/Student-Resources/Pages/Student-Tutoring.aspx\n",
      "    http://www.cdm.depaul.edu/Student-Resources/Pages/LabsAndResources/Labs-and-Software.aspx\n",
      "    http://www.cdm.depaul.edu/Student-Resources/Pages/Production-Resources.aspx\n",
      "    http://www.cdm.depaul.edu/Student-Resources/Pages/Student-Research.aspx\n",
      "    http://www.cdm.depaul.edu/Student-Resources/Pages/CDM-Tuition-Funding.aspx\n",
      "    http://www.cdm.depaul.edu/Student-Resources/Pages/Organizations.aspx\n",
      "    http://www.cdm.depaul.edu/Student-Resources/Pages/Jobs-Splash.aspx\n",
      "    http://www.cdm.depaul.edu/Student-Resources/Pages/PoliciesandProcedures.aspx\n",
      "    http://www.cdm.depaul.edu/Student-Resources/Pages/faq.aspx\n",
      "    http://www.cdm.depaul.edu/Student-Resources/Pages/Women-at-CDM.aspx\n",
      "    http://www.cdm.depaul.edu/academics/Pages/School-of-Cinematic-Arts.aspx\n",
      "    http://www.cdm.depaul.edu/academics/Pages/School-of-Computing.aspx\n",
      "    http://www.cdm.depaul.edu/academics/Pages/School-of-Design.aspx\n",
      "    http://www.cdm.depaul.edu/academics/Pages/CourseCatalog.aspx\n",
      "    http://www.cdm.depaul.edu/academics/Pages/CourseSchedule.aspx\n",
      "    http://www.cdm.depaul.edu/academics/Pages/CourseSyllabiSearch.aspx\n",
      "    https://academics.depaul.edu/calendar/Pages/default.aspx\n",
      "    https://academics.depaul.edu/calendar/Pages/finals-calendar.aspx\n",
      "    https://d2l.depaul.edu/\n",
      "    http://www.cdm.depaul.edu/Pages/default.aspx\n",
      "    http://www.cdm.depaul.edu/Student-Resources/Pages/Current-Students.aspx\n",
      "    https://my.cdm.depaul.edu/v2/Forms/Appeal/Home\n",
      "    https://my.cdm.depaul.edu/v2/GradStatusChange/Student\n",
      "    https://campusconnect.depaul.edu/\n",
      "    http://www.cdm.depaul.edu/Student-Resources/Pages/Degree-Completion-Policies.aspx\n",
      "    http://www.cdm.depaul.edu/Student-Resources/Pages/Enrollment-Policies.aspx\n",
      "    http://www.cdm.depaul.edu/Student-Resources/Pages/Grading-Policies.aspx\n",
      "    http://www.cdm.depaul.edu/Student-Resources/Pages/TransferInformation.aspx\n",
      "    http://www.cdm.depaul.edu/Student-Resources/Pages/IndependentStudy.aspx\n",
      "    http://www.cdm.depaul.edu/Student-Resources/Pages/Probation.aspx\n",
      "    http://www.cdm.depaul.edu/Student-Resources/Pages/Forms.aspx\n",
      "    https://catalog.depaul.edu/student-handbooks/undergraduate/\n",
      "    https://catalog.depaul.edu/student-handbooks/graduate/\n",
      "    https://offices.depaul.edu/academic-affairs/faculty-resources/academic-integrity/Pages/default.aspx\n",
      "    http://www.cdm.depaul.edu/Student-Resources/Pages/MeetOurStaff.aspx\n",
      "    https://resources.depaul.edu/student-success/Pages/default.aspx\n",
      "    http://www.depaul.edu\n",
      "    http://www.cdm.depaul.edu/Pages/default2.aspx\n",
      "    http://goo.gl/maps/ip5b\n",
      "    tel:+13123628381\n",
      "    Error fetching tel:+13123628381: No connection adapters were found for 'tel:+13123628381'\n",
      "    https://www.instagram.com/cdmdepaul/\n",
      "    http://www.facebook.com/CDMDePaul\n",
      "    http://twitter.com/CDMDePaul\n",
      "    https://www.linkedin.com/school/22315245/\n",
      "    mailto:admission@cdm.depaul.edu\n",
      "    Error fetching mailto:admission@cdm.depaul.edu: No connection adapters were found for 'mailto:admission@cdm.depaul.edu'\n",
      "    mailto:advising@cdm.depaul.edu\n",
      "    Error fetching mailto:advising@cdm.depaul.edu: No connection adapters were found for 'mailto:advising@cdm.depaul.edu'\n",
      "    mailto:wwwfeedback@cdm.depaul.edu\n",
      "    Error fetching mailto:wwwfeedback@cdm.depaul.edu: No connection adapters were found for 'mailto:wwwfeedback@cdm.depaul.edu'\n",
      "    mailto:wwwfeedback@cdm.depaul.edu?subject=[WWW Feedback] Page Visited: /Student-Resources/Pages/Policies-and-Procedures.aspx\n",
      "    Error fetching mailto:wwwfeedback@cdm.depaul.edu?subject=[WWW Feedback] Page Visited: /Student-Resources/Pages/Policies-and-Procedures.aspx: No connection adapters were found for 'mailto:wwwfeedback@cdm.depaul.edu?subject=[WWW Feedback] Page Visited: /Student-Resources/Pages/Policies-and-Procedures.aspx'\n",
      "    http://www.cdm.depaul.edu/academics/Pages/School-of-Cinematic-Arts.aspx\n",
      "    http://www.cdm.depaul.edu/academics/Pages/School-of-Computing.aspx\n",
      "    http://www.cdm.depaul.edu/academics/Pages/School-of-Design.aspx\n",
      "    https://my.cdm.depaul.edu/v2\n",
      "    https://campusconnect.depaul.edu/\n",
      "    https://d2l.depaul.edu/\n",
      "    https://onedepaul.depaul.edu/\n",
      "    http://www.cdm.depaul.edu/Pages/Privacy.aspx\n",
      "    https://securelb.imodules.com/s/1906/19/interior.aspx?sid=1906&gid=2&pgid=853&cid=2668\n",
      "    Error fetching https://securelb.imodules.com/s/1906/19/interior.aspx?sid=1906&gid=2&pgid=853&cid=2668: 403 Client Error: Forbidden for url: https://securelb.imodules.com/s/1906/19/interior.aspx?sid=1906&gid=2&pgid=853&cid=2668\n"
     ]
    }
   ],
   "source": [
    "webdir('https://reed.cs.depaul.edu/lperkovic/csc242/syllabus.html', 2, 0)"
   ]
  },
  {
   "cell_type": "markdown",
   "id": "5b8db7f9-61a4-423d-a69f-31ecfd26599a",
   "metadata": {},
   "source": [
    "# Question 8"
   ]
  },
  {
   "cell_type": "code",
   "execution_count": 64,
   "id": "4ae9659b-7e88-4958-93fd-a2eb6b88d539",
   "metadata": {},
   "outputs": [],
   "source": [
    "import sqlite3"
   ]
  },
  {
   "cell_type": "code",
   "execution_count": 66,
   "id": "9d8942cf-7843-4444-b053-2ac2fac7567a",
   "metadata": {},
   "outputs": [],
   "source": [
    "con = sqlite3.connect('weather.db')"
   ]
  },
  {
   "cell_type": "code",
   "execution_count": 68,
   "id": "3aafdbeb-563a-4c00-a704-56cab10f207c",
   "metadata": {},
   "outputs": [],
   "source": [
    "cur = con.cursor()"
   ]
  },
  {
   "cell_type": "code",
   "execution_count": 70,
   "id": "6f7078d0-8bcf-4ea3-93c7-044df9c1978a",
   "metadata": {},
   "outputs": [
    {
     "data": {
      "text/plain": [
       "<sqlite3.Cursor at 0x2054ea7f4c0>"
      ]
     },
     "execution_count": 70,
     "metadata": {},
     "output_type": "execute_result"
    }
   ],
   "source": [
    "cur.execute('''\n",
    "\n",
    "CREATE TABLE IF NOT EXISTS weather (\n",
    "\n",
    "      city TEXT,\n",
    "\n",
    "      country TEXT,\n",
    "\n",
    "      season INTEGER,\n",
    "\n",
    "      temperature_C REAL,\n",
    "\n",
    "      rainfall_mm REAL)\n",
    "\n",
    "      '''\n",
    "\n",
    ")"
   ]
  },
  {
   "cell_type": "code",
   "execution_count": 74,
   "id": "884aa492-63b2-4530-80d0-35f1fa95880d",
   "metadata": {},
   "outputs": [],
   "source": [
    "weather_data = [\n",
    "    ('Mumbai', 'India', 'Winter', 24.8, 5.9),\n",
    "    ('Mumbai', 'India', 'Spring', 28.4, 16.2),\n",
    "    ('Mumbai', 'India', 'Summer', 27.9, 1549.4),\n",
    "    ('Mumbai', 'India', 'Fall', 27.6, 346.0),\n",
    "    ('London', 'United Kingdom', 'Winter', 4.2, 207.7),\n",
    "    ('London', 'United Kingdom', 'Spring', 8.3, 169.6),\n",
    "    ('London', 'United Kingdom', 'Summer', 15.7, 157.0),\n",
    "    ('London', 'United Kingdom', 'Fall', 10.4, 218.5),\n",
    "    ('Cairo', 'Egypt', 'Winter', 13.6, 16.5),\n",
    "    ('Cairo', 'Egypt', 'Spring', 20.7, 6.5),\n",
    "    ('Cairo', 'Egypt', 'Summer', 27.7, 0.1),\n",
    "    ('Cairo', 'Egypt', 'Fall', 22.2, 4.5)\n",
    "]"
   ]
  },
  {
   "cell_type": "code",
   "execution_count": 78,
   "id": "b5b64e9c-7e61-4a7e-b709-7acccb3fe2b3",
   "metadata": {},
   "outputs": [
    {
     "data": {
      "text/plain": [
       "<sqlite3.Cursor at 0x2054ea7f4c0>"
      ]
     },
     "execution_count": 78,
     "metadata": {},
     "output_type": "execute_result"
    }
   ],
   "source": [
    "cur.executemany('INSERT INTO Weather VALUES (?, ?, ?, ?, ?)', weather_data)"
   ]
  },
  {
   "cell_type": "markdown",
   "id": "525f470e-8c6b-4250-951f-341d0f1dbea2",
   "metadata": {},
   "source": [
    "# A"
   ]
  },
  {
   "cell_type": "code",
   "execution_count": 81,
   "id": "ab4d3900-9876-4731-a786-69676fc67d4d",
   "metadata": {},
   "outputs": [
    {
     "name": "stdout",
     "output_type": "stream",
     "text": [
      "[(24.8,), (28.4,), (27.9,), (27.6,), (4.2,), (8.3,), (15.7,), (10.4,), (13.6,), (20.7,), (27.7,), (22.2,)]\n"
     ]
    }
   ],
   "source": [
    "cur.execute(\"SELECT Temperature_C FROM Weather;\")\n",
    "print(cur.fetchall())"
   ]
  },
  {
   "cell_type": "markdown",
   "id": "429ddbe1-394b-4725-89b4-d883c5cb77e4",
   "metadata": {},
   "source": [
    "# B"
   ]
  },
  {
   "cell_type": "code",
   "execution_count": 84,
   "id": "51d4abfd-d681-4ccb-8e42-0eef11633429",
   "metadata": {},
   "outputs": [
    {
     "name": "stdout",
     "output_type": "stream",
     "text": [
      "[('Mumbai',), ('London',), ('Cairo',)]\n"
     ]
    }
   ],
   "source": [
    "cur.execute(\"SELECT DISTINCT City FROM Weather;\")\n",
    "print(cur.fetchall())"
   ]
  },
  {
   "cell_type": "markdown",
   "id": "599c6a30-e845-432d-917c-450b73707d22",
   "metadata": {},
   "source": [
    "# C"
   ]
  },
  {
   "cell_type": "code",
   "execution_count": 87,
   "id": "7d15319a-38da-4b49-a545-fcca3a642005",
   "metadata": {},
   "outputs": [
    {
     "name": "stdout",
     "output_type": "stream",
     "text": [
      "[('Mumbai', 'India', 'Winter', 24.8, 5.9), ('Mumbai', 'India', 'Spring', 28.4, 16.2), ('Mumbai', 'India', 'Summer', 27.9, 1549.4), ('Mumbai', 'India', 'Fall', 27.6, 346.0)]\n"
     ]
    }
   ],
   "source": [
    "cur.execute(\"SELECT * FROM Weather WHERE Country = 'India';\")\n",
    "print(cur.fetchall())"
   ]
  },
  {
   "cell_type": "markdown",
   "id": "cf026a6f-778d-4b9f-9906-6c3f095d5e0a",
   "metadata": {},
   "source": [
    "# D"
   ]
  },
  {
   "cell_type": "code",
   "execution_count": 90,
   "id": "2a877743-7e0d-4448-8db8-283917e35d30",
   "metadata": {},
   "outputs": [
    {
     "name": "stdout",
     "output_type": "stream",
     "text": [
      "[('Mumbai', 'India', 'Fall', 27.6, 346.0), ('London', 'United Kingdom', 'Fall', 10.4, 218.5), ('Cairo', 'Egypt', 'Fall', 22.2, 4.5)]\n"
     ]
    }
   ],
   "source": [
    "cur.execute(\"SELECT * FROM Weather WHERE Season = 'Fall';\")\n",
    "print(cur.fetchall())"
   ]
  },
  {
   "cell_type": "markdown",
   "id": "5a51ed02-df6a-49c7-9348-7ee18b587ee9",
   "metadata": {},
   "source": [
    "# E"
   ]
  },
  {
   "cell_type": "code",
   "execution_count": 93,
   "id": "500ef9bc-5a00-4ab5-8490-8e1032df9a94",
   "metadata": {},
   "outputs": [
    {
     "name": "stdout",
     "output_type": "stream",
     "text": [
      "[('London', 'United Kingdom', 'Fall'), ('London', 'United Kingdom', 'Winter'), ('Mumbai', 'India', 'Fall')]\n"
     ]
    }
   ],
   "source": [
    "cur.execute('''\n",
    "SELECT City, Country, Season\n",
    "FROM Weather\n",
    "GROUP BY City, Country, Season\n",
    "HAVING AVG(Rainfall_mm) BETWEEN 200 AND 400;\n",
    "''')\n",
    "print(cur.fetchall())"
   ]
  },
  {
   "cell_type": "markdown",
   "id": "27152f2c-6bd5-437d-9054-368d614112c4",
   "metadata": {},
   "source": [
    "# F"
   ]
  },
  {
   "cell_type": "code",
   "execution_count": 96,
   "id": "e6a69bdf-34d8-43aa-b47c-a5ce8ee489a8",
   "metadata": {},
   "outputs": [
    {
     "name": "stdout",
     "output_type": "stream",
     "text": [
      "[('Cairo', 'Egypt'), ('Mumbai', 'India')]\n"
     ]
    }
   ],
   "source": [
    "cur.execute('''\n",
    "SELECT City, Country\n",
    "FROM Weather\n",
    "WHERE Season = 'Fall'\n",
    "GROUP BY City, Country\n",
    "HAVING AVG(Temperature_C) > 20\n",
    "ORDER BY AVG(Temperature_C);\n",
    "''')\n",
    "print(cur.fetchall())"
   ]
  },
  {
   "cell_type": "markdown",
   "id": "a070750c-8524-46e7-9ebc-171cd6e1b417",
   "metadata": {},
   "source": [
    "# G"
   ]
  },
  {
   "cell_type": "code",
   "execution_count": 99,
   "id": "21f1c1d0-fad5-4f7f-a116-a4eb1adb0f72",
   "metadata": {},
   "outputs": [
    {
     "name": "stdout",
     "output_type": "stream",
     "text": [
      "(27.6,)\n"
     ]
    }
   ],
   "source": [
    "cur.execute(\"SELECT SUM(Rainfall_mm) AS Total_Annual_Rainfall FROM Weather WHERE City = 'Cairo';\")\n",
    "print(cur.fetchone())"
   ]
  },
  {
   "cell_type": "markdown",
   "id": "2475f968-518f-412f-a582-14400046c8af",
   "metadata": {},
   "source": [
    "# H"
   ]
  },
  {
   "cell_type": "code",
   "execution_count": 102,
   "id": "d31387c6-9947-4556-8950-b27fa9a65288",
   "metadata": {},
   "outputs": [
    {
     "name": "stdout",
     "output_type": "stream",
     "text": [
      "[('Fall', 569.0), ('Spring', 192.29999999999998), ('Summer', 1706.5), ('Winter', 230.1)]\n"
     ]
    }
   ],
   "source": [
    "cur.execute('''\n",
    "SELECT Season, SUM(Rainfall_mm) AS Total_Rainfall\n",
    "FROM Weather\n",
    "GROUP BY Season;\n",
    "''')\n",
    "print(cur.fetchall())"
   ]
  },
  {
   "cell_type": "markdown",
   "id": "810fc059-87a1-49d5-a5c5-2716c9d83cc7",
   "metadata": {},
   "source": [
    "# Question 9"
   ]
  },
  {
   "cell_type": "code",
   "execution_count": 50,
   "id": "dc271917-1976-4cf7-981d-22c4a7d8d416",
   "metadata": {},
   "outputs": [],
   "source": [
    "words = ['The', 'quick', 'brown', 'fox', 'jumps', 'over',\n",
    "'the', 'lazy', 'dog']"
   ]
  },
  {
   "cell_type": "code",
   "execution_count": 52,
   "id": "a0b2eada-51c9-456a-b5b0-b313f0032315",
   "metadata": {},
   "outputs": [
    {
     "name": "stdout",
     "output_type": "stream",
     "text": [
      "['THE', 'QUICK', 'BROWN', 'FOX', 'JUMPS', 'OVER', 'THE', 'LAZY', 'DOG']\n"
     ]
    }
   ],
   "source": [
    "print([x.upper() for x in words])"
   ]
  },
  {
   "cell_type": "code",
   "execution_count": 54,
   "id": "137b903b-dbc1-4632-b41f-1b6c6c7fc449",
   "metadata": {},
   "outputs": [
    {
     "name": "stdout",
     "output_type": "stream",
     "text": [
      "['the', 'quick', 'brown', 'fox', 'jumps', 'over', 'the', 'lazy', 'dog']\n"
     ]
    }
   ],
   "source": [
    "print([x.lower() for x in words])"
   ]
  },
  {
   "cell_type": "code",
   "execution_count": 56,
   "id": "6d11e06b-1635-4820-8a87-9ee89b63ec57",
   "metadata": {},
   "outputs": [
    {
     "name": "stdout",
     "output_type": "stream",
     "text": [
      "[3, 5, 5, 3, 5, 4, 3, 4, 3]\n"
     ]
    }
   ],
   "source": [
    "print([len(x) for x in words])"
   ]
  },
  {
   "cell_type": "code",
   "execution_count": 58,
   "id": "80de8e6d-578d-4cb8-b598-18c2dffc60e6",
   "metadata": {},
   "outputs": [
    {
     "name": "stdout",
     "output_type": "stream",
     "text": [
      "[['THE', 'the', 3], ['QUICK', 'quick', 5], ['BROWN', 'brown', 5], ['FOX', 'fox', 3], ['JUMPS', 'jumps', 5], ['OVER', 'over', 4], ['THE', 'the', 3], ['LAZY', 'lazy', 4], ['DOG', 'dog', 3]]\n"
     ]
    }
   ],
   "source": [
    "print([[x.upper(), x.lower(), len(x)] for x in words])"
   ]
  },
  {
   "cell_type": "code",
   "execution_count": 60,
   "id": "9f8272a1-c297-4a2a-87b6-8418172c2f9c",
   "metadata": {},
   "outputs": [
    {
     "name": "stdout",
     "output_type": "stream",
     "text": [
      "['quick', 'brown', 'jumps', 'over', 'lazy']\n"
     ]
    }
   ],
   "source": [
    "print([word for word in words if len(word) >= 4])"
   ]
  }
 ],
 "metadata": {
  "kernelspec": {
   "display_name": "Python 3 (ipykernel)",
   "language": "python",
   "name": "python3"
  },
  "language_info": {
   "codemirror_mode": {
    "name": "ipython",
    "version": 3
   },
   "file_extension": ".py",
   "mimetype": "text/x-python",
   "name": "python",
   "nbconvert_exporter": "python",
   "pygments_lexer": "ipython3",
   "version": "3.12.4"
  }
 },
 "nbformat": 4,
 "nbformat_minor": 5
}
